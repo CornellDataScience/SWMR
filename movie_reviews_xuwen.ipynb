{
 "cells": [
  {
   "cell_type": "code",
   "execution_count": 1,
   "metadata": {},
   "outputs": [],
   "source": [
    "import pandas as pd\n",
    "import numpy as np\n",
    "%matplotlib inline\n",
    "from sklearn.linear_model import LogisticRegression\n",
    "from sklearn.feature_extraction.text import CountVectorizer, TfidfVectorizer\n"
   ]
  },
  {
   "cell_type": "code",
   "execution_count": 7,
   "metadata": {},
   "outputs": [],
   "source": [
    "df = pd.read_csv('train.csv')"
   ]
  },
  {
   "cell_type": "code",
   "execution_count": 16,
   "metadata": {},
   "outputs": [
    {
     "data": {
      "text/plain": [
       "159571"
      ]
     },
     "execution_count": 16,
     "metadata": {},
     "output_type": "execute_result"
    }
   ],
   "source": [
    "d = df.ix[:,1].values\n",
    "d.shape[0]\n",
    "# dataset.ix[:, 1].values"
   ]
  },
  {
   "cell_type": "code",
   "execution_count": 26,
   "metadata": {},
   "outputs": [],
   "source": [
    "dimension = 32\n",
    "skip_size = 8\n",
    "skip_window = 1\n",
    "num_skips = 2\n",
    "iteration_train_vectors = 5000\n",
    "\n",
    "num_layers = 2\n",
    "size_layer = 256\n",
    "learning_rate = 0.001\n",
    "epoch = 10\n",
    "batch = 30"
   ]
  },
  {
   "cell_type": "code",
   "execution_count": null,
   "metadata": {},
   "outputs": [],
   "source": [
    "import numpy as np\n",
    "import tensorflow as tf\n",
    "import pandas as pd\n",
    "\n",
    "import pre-organize_xuwen as po"
   ]
  },
  {
   "cell_type": "code",
   "execution_count": 28,
   "metadata": {},
   "outputs": [
    {
     "name": "stdout",
     "output_type": "stream",
     "text": [
      "there are 159571 total rows\n"
     ]
    },
    {
     "name": "stderr",
     "output_type": "stream",
     "text": [
      "/usr/local/lib/python3.6/site-packages/ipykernel_launcher.py:43: DeprecationWarning: \n",
      ".ix is deprecated. Please use\n",
      ".loc for label based indexing or\n",
      ".iloc for positional indexing\n",
      "\n",
      "See the documentation here:\n",
      "http://pandas.pydata.org/pandas-docs/stable/indexing.html#ix-indexer-is-deprecated\n"
     ]
    },
    {
     "name": "stdout",
     "output_type": "stream",
     "text": [
      "data size:  10734904\n",
      "Creating Word2Vec model.\n",
      "WARNING:tensorflow:From <ipython-input-25-0436eb9ef99f>:31: calling reduce_sum (from tensorflow.python.ops.math_ops) with keep_dims is deprecated and will be removed in a future version.\n",
      "Instructions for updating:\n",
      "keep_dims is deprecated, use keepdims instead\n",
      "epoch:  1000 , loss:  72.5287 , speed:  0.17870807647705078\n",
      "epoch:  2000 , loss:  46.4187 , speed:  0.170335054397583\n",
      "epoch:  3000 , loss:  39.8379 , speed:  0.172044038772583\n",
      "epoch:  4000 , loss:  62.7465 , speed:  0.17792820930480957\n",
      "epoch:  5000 , loss:  30.4033 , speed:  0.19726896286010742\n"
     ]
    }
   ],
   "source": [
    "string, data, label, vocab = po.read_data('train.csv')\n",
    "\n",
    "dictionary, reverse_dictionary, vectors = po.generatevector(dimension, dimension, skip_size, skip_window, num_skips, iteration_train_vectors, string)"
   ]
  },
  {
   "cell_type": "code",
   "execution_count": null,
   "metadata": {},
   "outputs": [],
   "source": [
    "bagofword = np.zeros((len(data), len(vocab)))\n",
    "for i in range(len(data)):\n",
    "    for _, text in enumerate(data[i].split()):\n",
    "        bagofword[i, vocab.index(text)] += 1.0\n",
    "        \n",
    "from sklearn.decomposition import PCA\n",
    "from sklearn.preprocessing import Normalizer\n",
    "\n",
    "bagofword = Normalizer().fit_transform(bagofword)\n",
    "data_visual = PCA(n_components = 2).fit_transform(bagofword)\n",
    "palette = ['r', 'b']\n",
    "data_label = ['negative', 'positive']\n",
    "\n",
    "plt.figure(figsize = (18, 18))\n",
    "for no, _ in enumerate(np.unique(label_encode)):\n",
    "    plt.scatter(data_visual[label_encode == no, 0], data_visual[label_encode == no, 1], c = palette[no], label = data_label[no], alpha = 0.5)\n",
    "    \n",
    "plt.legend()\n",
    "plt.show()"
   ]
  },
  {
   "cell_type": "code",
   "execution_count": null,
   "metadata": {},
   "outputs": [],
   "source": []
  }
 ],
 "metadata": {
  "kernelspec": {
   "display_name": "Python 3",
   "language": "python",
   "name": "python3"
  },
  "language_info": {
   "codemirror_mode": {
    "name": "ipython",
    "version": 3
   },
   "file_extension": ".py",
   "mimetype": "text/x-python",
   "name": "python",
   "nbconvert_exporter": "python",
   "pygments_lexer": "ipython3",
   "version": "3.6.3"
  }
 },
 "nbformat": 4,
 "nbformat_minor": 2
}
