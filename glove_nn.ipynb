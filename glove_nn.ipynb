{
 "cells": [
  {
   "cell_type": "code",
   "execution_count": 1,
   "metadata": {},
   "outputs": [],
   "source": [
    "import pandas as pd\n",
    "import numpy as np\n",
    "%matplotlib inline\n",
    "from sklearn.linear_model import LogisticRegression\n",
    "from sklearn.feature_extraction.text import CountVectorizer, TfidfVectorizer\n",
    "from sklearn.linear_model import LogisticRegression\n",
    "from sklearn.model_selection import train_test_split\n",
    "from sklearn.naive_bayes import MultinomialNB\n",
    "from sklearn.svm import SVC"
   ]
  },
  {
   "cell_type": "code",
   "execution_count": 2,
   "metadata": {},
   "outputs": [
    {
     "name": "stderr",
     "output_type": "stream",
     "text": [
      "Using TensorFlow backend.\n"
     ]
    }
   ],
   "source": [
    "# Keras\n",
    "from keras.preprocessing.text import Tokenizer\n",
    "from keras.preprocessing.sequence import pad_sequences\n",
    "from keras.models import Sequential\n",
    "from keras.layers import Dense, Flatten, LSTM, Conv1D, MaxPooling1D, Dropout, Activation\n",
    "from keras.layers.embeddings import Embedding\n",
    "# ## Plotly\n",
    "# import plotly.offline as py\n",
    "# import plotly.graph_objs as go\n",
    "# py.init_notebook_mode(connected=True)\n",
    "# Others\n",
    "import nltk\n",
    "import string\n",
    "import numpy as np\n",
    "import pandas as pd\n",
    "from nltk.corpus import stopwords\n",
    "\n",
    "from sklearn.manifold import TSNE"
   ]
  },
  {
   "cell_type": "code",
   "execution_count": 3,
   "metadata": {},
   "outputs": [
    {
     "name": "stderr",
     "output_type": "stream",
     "text": [
      "/usr/local/Cellar/python3/3.6.3/Frameworks/Python.framework/Versions/3.6/lib/python3.6/site-packages/ipykernel_launcher.py:1: ParserWarning: Falling back to the 'python' engine because the 'c' engine does not support regex separators (separators > 1 char and different from '\\s+' are interpreted as regex); you can avoid this warning by specifying engine='python'.\n",
      "  \"\"\"Entry point for launching an IPython kernel.\n",
      "/usr/local/Cellar/python3/3.6.3/Frameworks/Python.framework/Versions/3.6/lib/python3.6/site-packages/ipykernel_launcher.py:2: ParserWarning: Falling back to the 'python' engine because the 'c' engine does not support regex separators (separators > 1 char and different from '\\s+' are interpreted as regex); you can avoid this warning by specifying engine='python'.\n",
      "  \n",
      "/usr/local/Cellar/python3/3.6.3/Frameworks/Python.framework/Versions/3.6/lib/python3.6/site-packages/ipykernel_launcher.py:3: ParserWarning: Falling back to the 'python' engine because the 'c' engine does not support regex separators (separators > 1 char and different from '\\s+' are interpreted as regex); you can avoid this warning by specifying engine='python'.\n",
      "  This is separate from the ipykernel package so we can avoid doing imports until\n",
      "/usr/local/Cellar/python3/3.6.3/Frameworks/Python.framework/Versions/3.6/lib/python3.6/site-packages/ipykernel_launcher.py:4: ParserWarning: Falling back to the 'python' engine because the 'c' engine does not support regex separators (separators > 1 char and different from '\\s+' are interpreted as regex); you can avoid this warning by specifying engine='python'.\n",
      "  after removing the cwd from sys.path.\n",
      "/usr/local/Cellar/python3/3.6.3/Frameworks/Python.framework/Versions/3.6/lib/python3.6/site-packages/ipykernel_launcher.py:5: ParserWarning: Falling back to the 'python' engine because the 'c' engine does not support regex separators (separators > 1 char and different from '\\s+' are interpreted as regex); you can avoid this warning by specifying engine='python'.\n",
      "  \"\"\"\n"
     ]
    }
   ],
   "source": [
    "ids = pd.read_csv(\"scale_data/scaledata/Dennis+Schwartz/id.Dennis+Schwartz.txt\", sep=\"[\\r\\n]+\", header=None, names=[\"id\"])\n",
    "label_3class = pd.read_csv(\"scale_data/scaledata/Dennis+Schwartz/label.3class.Dennis+Schwartz.txt\", sep=\"[\\r\\n]+\", names=[\"3class_label\"])\n",
    "label_4class = pd.read_csv(\"scale_data/scaledata/Dennis+Schwartz/label.4class.Dennis+Schwartz.txt\", sep=\"[\\r\\n]+\",names=[\"4class_label\"])\n",
    "rating = pd.read_csv(\"scale_data/scaledata/Dennis+Schwartz/rating.Dennis+Schwartz.txt\", sep=\"[\\r\\n]+\",names=[\"rating\"])\n",
    "subj = pd.read_csv(\"scale_data/scaledata/Dennis+Schwartz/subj.Dennis+Schwartz.txt\", sep=\"[\\r\\n]+\",names=[\"subj_extraction\"])"
   ]
  },
  {
   "cell_type": "code",
   "execution_count": 4,
   "metadata": {},
   "outputs": [
    {
     "data": {
      "text/html": [
       "<div>\n",
       "<style scoped>\n",
       "    .dataframe tbody tr th:only-of-type {\n",
       "        vertical-align: middle;\n",
       "    }\n",
       "\n",
       "    .dataframe tbody tr th {\n",
       "        vertical-align: top;\n",
       "    }\n",
       "\n",
       "    .dataframe thead th {\n",
       "        text-align: right;\n",
       "    }\n",
       "</style>\n",
       "<table border=\"1\" class=\"dataframe\">\n",
       "  <thead>\n",
       "    <tr style=\"text-align: right;\">\n",
       "      <th></th>\n",
       "      <th>id</th>\n",
       "      <th>3class_label</th>\n",
       "      <th>4class_label</th>\n",
       "      <th>rating</th>\n",
       "      <th>subj_extraction</th>\n",
       "    </tr>\n",
       "  </thead>\n",
       "  <tbody>\n",
       "    <tr>\n",
       "      <th>0</th>\n",
       "      <td>29420</td>\n",
       "      <td>0</td>\n",
       "      <td>0</td>\n",
       "      <td>0.1</td>\n",
       "      <td>in my opinion , a movie reviewer's most import...</td>\n",
       "    </tr>\n",
       "    <tr>\n",
       "      <th>1</th>\n",
       "      <td>17219</td>\n",
       "      <td>0</td>\n",
       "      <td>0</td>\n",
       "      <td>0.2</td>\n",
       "      <td>you can watch this movie , that is based on a ...</td>\n",
       "    </tr>\n",
       "    <tr>\n",
       "      <th>2</th>\n",
       "      <td>18406</td>\n",
       "      <td>0</td>\n",
       "      <td>0</td>\n",
       "      <td>0.2</td>\n",
       "      <td>this is asking a lot to believe , and though i...</td>\n",
       "    </tr>\n",
       "    <tr>\n",
       "      <th>3</th>\n",
       "      <td>18648</td>\n",
       "      <td>0</td>\n",
       "      <td>0</td>\n",
       "      <td>0.2</td>\n",
       "      <td>no heroes and no story are the main attributes...</td>\n",
       "    </tr>\n",
       "    <tr>\n",
       "      <th>4</th>\n",
       "      <td>20021</td>\n",
       "      <td>0</td>\n",
       "      <td>0</td>\n",
       "      <td>0.2</td>\n",
       "      <td>this is not an art movie , yet i saw it an art...</td>\n",
       "    </tr>\n",
       "  </tbody>\n",
       "</table>\n",
       "</div>"
      ],
      "text/plain": [
       "      id  3class_label  4class_label  rating  \\\n",
       "0  29420             0             0     0.1   \n",
       "1  17219             0             0     0.2   \n",
       "2  18406             0             0     0.2   \n",
       "3  18648             0             0     0.2   \n",
       "4  20021             0             0     0.2   \n",
       "\n",
       "                                     subj_extraction  \n",
       "0  in my opinion , a movie reviewer's most import...  \n",
       "1  you can watch this movie , that is based on a ...  \n",
       "2  this is asking a lot to believe , and though i...  \n",
       "3  no heroes and no story are the main attributes...  \n",
       "4  this is not an art movie , yet i saw it an art...  "
      ]
     },
     "execution_count": 4,
     "metadata": {},
     "output_type": "execute_result"
    }
   ],
   "source": [
    "dennis = pd.concat([ids,label_3class, label_4class, rating, subj], axis = 1)\n",
    "dennis.head(5)"
   ]
  },
  {
   "cell_type": "code",
   "execution_count": 5,
   "metadata": {},
   "outputs": [],
   "source": [
    "dennis[\"strongly neg\"]=dennis.apply(lambda x:x[\"4class_label\"]==0, axis=1)\n",
    "dennis[\"neg\"]=dennis.apply(lambda x:x[\"4class_label\"]==1, axis=1)\n",
    "dennis[\"pos\"]=dennis.apply(lambda x:x[\"4class_label\"]==2, axis=1)\n",
    "dennis[\"strongly pos\"]=dennis.apply(lambda x:x[\"4class_label\"]==3, axis=1)"
   ]
  },
  {
   "cell_type": "code",
   "execution_count": 139,
   "metadata": {},
   "outputs": [],
   "source": [
    "y_d = dennis['3class_label']\n",
    "dennis['n']=dennis.apply(lambda x:x[\"4class_label\"]==0, axis=1)\n",
    "dennis[\"neg\"]=dennis.apply(lambda x:x[\"4class_label\"]==1, axis=1)\n",
    "dennis[\"pos\"]=dennis.apply(lambda x:x[\"4class_label\"]==2, axis=1)\n",
    "y_d_encode = dennis[['n', 'neg', 'pos']]\n",
    "x_d = list(dennis['subj_extraction'])\n",
    "x_d_padded = gd.padded_doc(x_d)"
   ]
  },
  {
   "cell_type": "code",
   "execution_count": 140,
   "metadata": {},
   "outputs": [],
   "source": [
    "from sklearn.model_selection import train_test_split\n",
    "xtrain_d_padded, xvalid_d_padded, ytrain_d, yvalid_d = train_test_split(x_d_padded, y_d, \n",
    "                                                  random_state=42, \n",
    "                                                  test_size=0.1, shuffle=True)"
   ]
  },
  {
   "cell_type": "code",
   "execution_count": 141,
   "metadata": {},
   "outputs": [],
   "source": [
    "xtrain_d_padded, xvalid_d_padded, ytrain_d_encode, yvalid_d_encode = train_test_split(x_d_padded, y_d_encode,\n",
    "                                                  random_state=42, \n",
    "                                                  test_size=0.1, shuffle=True)"
   ]
  },
  {
   "cell_type": "code",
   "execution_count": 49,
   "metadata": {},
   "outputs": [],
   "source": [
    "import glove_dl22 as gd"
   ]
  },
  {
   "cell_type": "code",
   "execution_count": 50,
   "metadata": {},
   "outputs": [],
   "source": [
    "vocab_size, embedding_matrix, padded_docs = gd.get_glove_m(total_text)"
   ]
  },
  {
   "cell_type": "code",
   "execution_count": 51,
   "metadata": {},
   "outputs": [
    {
     "data": {
      "text/plain": [
       "array([[ 0.        ,  0.        ,  0.        , ...,  0.        ,\n",
       "         0.        ,  0.        ],\n",
       "       [-0.038194  , -0.24487001,  0.72812003, ..., -0.1459    ,\n",
       "         0.82779998,  0.27061999],\n",
       "       [-0.1529    , -0.24279   ,  0.89837003, ..., -0.59100002,\n",
       "         1.00390005,  0.20664001],\n",
       "       ..., \n",
       "       [ 0.19193999,  0.38505   , -0.22404   , ..., -0.16169   ,\n",
       "         0.080152  ,  0.29284999],\n",
       "       [-0.045712  ,  0.14199001, -0.30963001, ..., -0.22722   ,\n",
       "         0.76585001,  0.66973001],\n",
       "       [ 0.0068313 , -0.15109   , -0.012474  , ..., -0.019687  ,\n",
       "         0.33684   ,  0.41115999]])"
      ]
     },
     "execution_count": 51,
     "metadata": {},
     "output_type": "execute_result"
    }
   ],
   "source": [
    "embedding_matrix"
   ]
  },
  {
   "cell_type": "markdown",
   "metadata": {},
   "source": [
    "## cnn "
   ]
  },
  {
   "cell_type": "code",
   "execution_count": 80,
   "metadata": {},
   "outputs": [
    {
     "name": "stdout",
     "output_type": "stream",
     "text": [
      "Initializing embedding layer with glove weights, shape (33501, 100)\n",
      "Epoch 1/10\n",
      "924/924 [==============================] - 4s 4ms/step - loss: 0.9929 - acc: 0.4004\n",
      "Epoch 2/10\n",
      "924/924 [==============================] - 3s 3ms/step - loss: 0.9512 - acc: 0.4102\n",
      "Epoch 3/10\n",
      "924/924 [==============================] - 3s 3ms/step - loss: 0.9446 - acc: 0.4242\n",
      "Epoch 4/10\n",
      "924/924 [==============================] - 3s 3ms/step - loss: 0.9397 - acc: 0.4123\n",
      "Epoch 5/10\n",
      "924/924 [==============================] - 3s 3ms/step - loss: 0.9444 - acc: 0.4361\n",
      "Epoch 6/10\n",
      "924/924 [==============================] - 3s 3ms/step - loss: 0.9228 - acc: 0.4167\n",
      "Epoch 7/10\n",
      "924/924 [==============================] - 3s 3ms/step - loss: 0.9166 - acc: 0.4264\n",
      "Epoch 8/10\n",
      "924/924 [==============================] - 3s 3ms/step - loss: 0.9264 - acc: 0.4307\n",
      "Epoch 9/10\n",
      "924/924 [==============================] - 3s 3ms/step - loss: 0.9052 - acc: 0.4372\n",
      "Epoch 10/10\n",
      "924/924 [==============================] - 3s 3ms/step - loss: 0.9027 - acc: 0.4264\n"
     ]
    },
    {
     "data": {
      "text/plain": [
       "<keras.callbacks.History at 0x127271668>"
      ]
     },
     "execution_count": 80,
     "metadata": {},
     "output_type": "execute_result"
    }
   ],
   "source": [
    "\n",
    "from keras.layers import Dense, Dropout, Flatten, Input, MaxPooling1D, Convolution1D, Embedding\n",
    "from keras.layers.merge import Concatenate\n",
    "from keras.models import Sequential, Model\n",
    "def build_model(embedding_matrix, vocab_size):\n",
    "    # define model\n",
    "    embedding_dim = 50\n",
    "    filter_sizes = (2, 4)\n",
    "    num_filters = 10\n",
    "    dropout_prob = (0.5, 0.8)\n",
    "    hidden_dims = 50\n",
    "\n",
    "    # Build model\n",
    "    sequence_length = 100\n",
    "    input_shape = (sequence_length,)\n",
    "\n",
    "    model_input = Input(shape=input_shape)\n",
    "\n",
    "    # Static model does not have embedding layer\n",
    "\n",
    "    z = Embedding(vocab_size, 100, input_length=sequence_length,weights=[embedding_matrix], name=\"embedding\")(model_input)\n",
    "    z.trainable = False\n",
    "    \n",
    "    z = Dropout(dropout_prob[0])(z)\n",
    "\n",
    "    # Convolutional block\n",
    "    conv_blocks = []\n",
    "    for sz in filter_sizes:\n",
    "        conv = Convolution1D(filters=num_filters,\n",
    "                             kernel_size=sz,\n",
    "                             padding=\"valid\",\n",
    "                             activation=\"relu\",\n",
    "                             strides=1)(z)\n",
    "        conv = MaxPooling1D(pool_size=1)(conv)\n",
    "        conv = Flatten()(conv)\n",
    "        conv_blocks.append(conv)\n",
    "    z = Concatenate()(conv_blocks) if len(conv_blocks) > 1 else conv_blocks[0]\n",
    "\n",
    "    z = Dropout(dropout_prob[1])(z)\n",
    "    z = Dense(hidden_dims, activation=\"relu\")(z)\n",
    "    model_output = Dense(3, activation=\"sigmoid\")(z)\n",
    "\n",
    "    model = Model(model_input, model_output)\n",
    "    model.compile(loss=\"categorical_crossentropy\", optimizer=\"adam\", metrics=[\"accuracy\"])\n",
    "\n",
    "    weights = np.array([v for v in embedding_matrix])\n",
    "    print(\"Initializing embedding layer with glove weights, shape\", weights.shape)\n",
    "    embedding_layer = model.get_layer(\"embedding\")\n",
    "    embedding_layer.set_weights([weights])\n",
    "    return model\n",
    "\n",
    "# # Initialize weights with word2vec\n",
    "# if model_type == \"CNN-non-static\":\n",
    "#     weights = np.array([v for v in embedding_weights.values()])\n",
    "#     print(\"Initializing embedding layer with word2vec weights, shape\", weights.shape)\n",
    "#     embedding_layer = model.get_layer(\"embedding\")\n",
    "#     embedding_layer.set_weights([weights])\n",
    "\n",
    "# Train the model\n",
    "model = build_model(embedding_matrix, vocab_size)\n",
    "model.fit(xtrain_d_padded_docs, ytrain_d_encode, epochs=10, verbose=1)"
   ]
  },
  {
   "cell_type": "code",
   "execution_count": 23,
   "metadata": {},
   "outputs": [
    {
     "name": "stdout",
     "output_type": "stream",
     "text": [
      "__________________________________________________________________________________________________\n",
      "Layer (type)                    Output Shape         Param #     Connected to                     \n",
      "==================================================================================================\n",
      "input_2 (InputLayer)            (None, 400)          0                                            \n",
      "__________________________________________________________________________________________________\n",
      "embedding (Embedding)           (None, 400, 100)     1791100     input_2[0][0]                    \n",
      "__________________________________________________________________________________________________\n",
      "dropout_1 (Dropout)             (None, 400, 100)     0           embedding[0][0]                  \n",
      "__________________________________________________________________________________________________\n",
      "conv1d_1 (Conv1D)               (None, 399, 10)      2010        dropout_1[0][0]                  \n",
      "__________________________________________________________________________________________________\n",
      "conv1d_2 (Conv1D)               (None, 397, 10)      4010        dropout_1[0][0]                  \n",
      "__________________________________________________________________________________________________\n",
      "max_pooling1d_1 (MaxPooling1D)  (None, 399, 10)      0           conv1d_1[0][0]                   \n",
      "__________________________________________________________________________________________________\n",
      "max_pooling1d_2 (MaxPooling1D)  (None, 397, 10)      0           conv1d_2[0][0]                   \n",
      "__________________________________________________________________________________________________\n",
      "flatten_2 (Flatten)             (None, 3990)         0           max_pooling1d_1[0][0]            \n",
      "__________________________________________________________________________________________________\n",
      "flatten_3 (Flatten)             (None, 3970)         0           max_pooling1d_2[0][0]            \n",
      "__________________________________________________________________________________________________\n",
      "concatenate_1 (Concatenate)     (None, 7960)         0           flatten_2[0][0]                  \n",
      "                                                                 flatten_3[0][0]                  \n",
      "__________________________________________________________________________________________________\n",
      "dropout_2 (Dropout)             (None, 7960)         0           concatenate_1[0][0]              \n",
      "__________________________________________________________________________________________________\n",
      "dense_2 (Dense)                 (None, 50)           398050      dropout_2[0][0]                  \n",
      "__________________________________________________________________________________________________\n",
      "dense_3 (Dense)                 (None, 3)            153         dense_2[0][0]                    \n",
      "==================================================================================================\n",
      "Total params: 2,195,323\n",
      "Trainable params: 2,195,323\n",
      "Non-trainable params: 0\n",
      "__________________________________________________________________________________________________\n"
     ]
    }
   ],
   "source": [
    "model.summary()"
   ]
  },
  {
   "cell_type": "markdown",
   "metadata": {},
   "source": [
    "## visuliaze the prediction"
   ]
  },
  {
   "cell_type": "code",
   "execution_count": null,
   "metadata": {},
   "outputs": [],
   "source": []
  },
  {
   "cell_type": "code",
   "execution_count": null,
   "metadata": {},
   "outputs": [],
   "source": []
  },
  {
   "cell_type": "code",
   "execution_count": 75,
   "metadata": {},
   "outputs": [
    {
     "name": "stdout",
     "output_type": "stream",
     "text": [
      "Accuracy: 41.747573\n"
     ]
    }
   ],
   "source": [
    "# evaluate the model\n",
    "loss, accuracy = model.evaluate(xvalid_d_padded_docs, yvalid_d_encode, verbose=0)\n",
    "print('Accuracy: %f' % (accuracy*100))"
   ]
  },
  {
   "cell_type": "code",
   "execution_count": 27,
   "metadata": {},
   "outputs": [
    {
     "data": {
      "text/plain": [
       "(924, 300)"
      ]
     },
     "execution_count": 27,
     "metadata": {},
     "output_type": "execute_result"
    }
   ],
   "source": [
    "xtrain_d_glv = np.array(xtrain_d_glv)\n",
    "xvalid_d_glv = np.array(xvalid_d_glv)\n",
    "xtrain_d_glv.shape"
   ]
  },
  {
   "cell_type": "code",
   "execution_count": 18,
   "metadata": {},
   "outputs": [
    {
     "name": "stdout",
     "output_type": "stream",
     "text": [
      "Saved model to disk\n"
     ]
    }
   ],
   "source": [
    "# serialize model to JSON\n",
    "model_json = model.to_json()\n",
    "with open(\"model_gl.json\", \"w\") as json_file:\n",
    "    json_file.write(model_json)\n",
    "# serialize weights to HDF5\n",
    "model.save_weights(\"model_gl.h5\")\n",
    "print(\"Saved model to disk\")"
   ]
  },
  {
   "cell_type": "markdown",
   "metadata": {},
   "source": [
    "# glove_nn on the other writer"
   ]
  },
  {
   "cell_type": "code",
   "execution_count": 20,
   "metadata": {},
   "outputs": [
    {
     "name": "stderr",
     "output_type": "stream",
     "text": [
      "/usr/local/Cellar/python3/3.6.3/Frameworks/Python.framework/Versions/3.6/lib/python3.6/site-packages/ipykernel_launcher.py:1: ParserWarning: Falling back to the 'python' engine because the 'c' engine does not support regex separators (separators > 1 char and different from '\\s+' are interpreted as regex); you can avoid this warning by specifying engine='python'.\n",
      "  \"\"\"Entry point for launching an IPython kernel.\n",
      "/usr/local/Cellar/python3/3.6.3/Frameworks/Python.framework/Versions/3.6/lib/python3.6/site-packages/ipykernel_launcher.py:3: ParserWarning: Falling back to the 'python' engine because the 'c' engine does not support regex separators (separators > 1 char and different from '\\s+' are interpreted as regex); you can avoid this warning by specifying engine='python'.\n",
      "  This is separate from the ipykernel package so we can avoid doing imports until\n",
      "/usr/local/Cellar/python3/3.6.3/Frameworks/Python.framework/Versions/3.6/lib/python3.6/site-packages/ipykernel_launcher.py:5: ParserWarning: Falling back to the 'python' engine because the 'c' engine does not support regex separators (separators > 1 char and different from '\\s+' are interpreted as regex); you can avoid this warning by specifying engine='python'.\n",
      "  \"\"\"\n",
      "/usr/local/Cellar/python3/3.6.3/Frameworks/Python.framework/Versions/3.6/lib/python3.6/site-packages/ipykernel_launcher.py:6: ParserWarning: Falling back to the 'python' engine because the 'c' engine does not support regex separators (separators > 1 char and different from '\\s+' are interpreted as regex); you can avoid this warning by specifying engine='python'.\n",
      "  \n",
      "/usr/local/Cellar/python3/3.6.3/Frameworks/Python.framework/Versions/3.6/lib/python3.6/site-packages/ipykernel_launcher.py:7: ParserWarning: Falling back to the 'python' engine because the 'c' engine does not support regex separators (separators > 1 char and different from '\\s+' are interpreted as regex); you can avoid this warning by specifying engine='python'.\n",
      "  import sys\n"
     ]
    }
   ],
   "source": [
    "ids = pd.read_csv(\"scale_data/scaledata/James+Berardinelli/id.James+Berardinelli.txt\", sep=\"[\\r\\n]+\", header=None, names=[\"id\"])\n",
    "# label_3class = pd.read_csv(\"scale_data/scaledata/James+Berardinelli/label.3class.James+Berardinelli.txt\", sep=\"[\\r\\n]+\", names=[\"3class_label\"])\n",
    "label_3class = pd.read_csv(\"scale_data/scaledata/James+Berardinelli/label.3class.James+Berardinelli.txt\", sep=\"[\\r\\n]+\",names=[\"3class_label\"])\n",
    "\n",
    "label_4class = pd.read_csv(\"scale_data/scaledata/James+Berardinelli/label.4class.James+Berardinelli.txt\", sep=\"[\\r\\n]+\",names=[\"4class_label\"])\n",
    "rating = pd.read_csv(\"scale_data/scaledata/James+Berardinelli/rating.James+Berardinelli.txt\", sep=\"[\\r\\n]+\",names=[\"rating\"])\n",
    "subj = pd.read_csv(\"scale_data/scaledata/James+Berardinelli/subj.James+Berardinelli.txt\", sep=\"[\\r\\n]+\",names=[\"subj_extraction\"])"
   ]
  },
  {
   "cell_type": "code",
   "execution_count": 21,
   "metadata": {},
   "outputs": [],
   "source": [
    "james = pd.concat([ids,label_3class, label_4class, rating, subj], axis = 1)\n"
   ]
  },
  {
   "cell_type": "code",
   "execution_count": 22,
   "metadata": {},
   "outputs": [],
   "source": [
    "james[\"strongly neg\"]=james.apply(lambda x:x[\"4class_label\"]==0, axis=1)\n",
    "james[\"neg\"]=james.apply(lambda x:x[\"4class_label\"]==1, axis=1)\n",
    "james[\"pos\"]=james.apply(lambda x:x[\"4class_label\"]==2, axis=1)\n",
    "james[\"strongly pos\"]=james.apply(lambda x:x[\"4class_label\"]==3, axis=1)"
   ]
  },
  {
   "cell_type": "code",
   "execution_count": 166,
   "metadata": {},
   "outputs": [],
   "source": [
    "y_d = dennis['3class_label']\n",
    "james['n']=james.apply(lambda x:x[\"3class_label\"]==0, axis=1)\n",
    "james[\"neg\"]=james.apply(lambda x:x[\"3class_label\"]==1, axis=1)\n",
    "james[\"pos\"]=james.apply(lambda x:x[\"3class_label\"]==2, axis=1)\n",
    "y_j_encode = james[['n', 'neg', 'pos']]"
   ]
  },
  {
   "cell_type": "code",
   "execution_count": 167,
   "metadata": {},
   "outputs": [],
   "source": [
    "x_j = james['subj_extraction']\n",
    "y_j = james['3class_label']\n",
    "x_j_padded = gd.padded_doc(x_j)"
   ]
  },
  {
   "cell_type": "code",
   "execution_count": 168,
   "metadata": {},
   "outputs": [],
   "source": [
    "from sklearn.model_selection import train_test_split\n",
    "xtrain_j_padded, xvalid_j_padded, ytrain_j, yvalid_j = train_test_split(x_j_padded, y_j, \n",
    "                                                  random_state=42, \n",
    "                                                  test_size=0.1, shuffle=True)"
   ]
  },
  {
   "cell_type": "code",
   "execution_count": 175,
   "metadata": {},
   "outputs": [
    {
     "name": "stdout",
     "output_type": "stream",
     "text": [
      "(902, 100)\n",
      "(902,)\n"
     ]
    }
   ],
   "source": [
    "print (x_j_padded.shape)\n",
    "print (y_j.shape)"
   ]
  },
  {
   "cell_type": "code",
   "execution_count": 182,
   "metadata": {},
   "outputs": [],
   "source": [
    "from sklearn.model_selection import train_test_split\n",
    "xtrain_j_padded, xvalid_j_padded, ytrain_j_encode, yvalid_j_encode = train_test_split(x_j_padded, y_j_encode, \n",
    "                                                  random_state=42, \n",
    "                                                  test_size=0.1, shuffle=True)"
   ]
  },
  {
   "cell_type": "code",
   "execution_count": 183,
   "metadata": {},
   "outputs": [
    {
     "name": "stdout",
     "output_type": "stream",
     "text": [
      "(902, 100)\n",
      "(902, 3)\n",
      "(91, 100)\n",
      "(91, 3)\n"
     ]
    }
   ],
   "source": [
    "print (x_j_padded.shape)\n",
    "print (y_j_encode.shape)\n",
    "print (xvalid_j_padded.shape)\n",
    "print (yvalid_j_encode.shape)"
   ]
  },
  {
   "cell_type": "code",
   "execution_count": 160,
   "metadata": {},
   "outputs": [],
   "source": [
    "from keras.models import Sequential\n",
    "from keras.layers import Dense\n",
    "from keras.models import model_from_json\n",
    "import numpy\n",
    "import os"
   ]
  },
  {
   "cell_type": "markdown",
   "metadata": {},
   "source": [
    "## load the pre_trained model and evaluate on james directly"
   ]
  },
  {
   "cell_type": "code",
   "execution_count": 204,
   "metadata": {},
   "outputs": [
    {
     "name": "stdout",
     "output_type": "stream",
     "text": [
      "Loaded model from disk\n",
      "91/91 [==============================] - 1s 9ms/step\n"
     ]
    },
    {
     "data": {
      "text/plain": [
       "[0.82195321937183763, 0.54212456122859498]"
      ]
     },
     "execution_count": 204,
     "metadata": {},
     "output_type": "execute_result"
    }
   ],
   "source": [
    "# load json and create model\n",
    "json_file = open('model_gl_cnn.json', 'r')\n",
    "loaded_model_cnn_json = json_file.read()\n",
    "json_file.close()\n",
    "loaded_model_cnn = model_from_json(loaded_model_cnn_json)\n",
    "# load weights into new model\n",
    "loaded_model_cnn.load_weights(\"model_gl_cnn.h5\")\n",
    "print(\"Loaded model from disk\")\n",
    " \n",
    "# evaluate loaded model on test data\n",
    "loaded_model_cnn.compile(loss='binary_crossentropy', optimizer='rmsprop', metrics=['accuracy'])\n",
    "loaded_model_cnn.evaluate(xvalid_j_padded, yvalid_j_encode, verbose=1)\n",
    "# print(\"%s: %.2f%%\" % (loaded_model_cnn.metrics_names[1], score[1]*100))\n",
    "# # loaded_model.summary()\n",
    "# score"
   ]
  },
  {
   "cell_type": "code",
   "execution_count": 200,
   "metadata": {},
   "outputs": [
    {
     "data": {
      "text/plain": [
       "[0.82195321937183763, 0.54212456122859498]"
      ]
     },
     "execution_count": 200,
     "metadata": {},
     "output_type": "execute_result"
    }
   ],
   "source": [
    "loaded_model_cnn.predict(xvalid_j_padded)\n",
    "# print(\"%s: %.2f%%\" % (loaded_model_cnn.metrics_names[1], score[1]*100))\n"
   ]
  },
  {
   "cell_type": "code",
   "execution_count": null,
   "metadata": {},
   "outputs": [],
   "source": []
  },
  {
   "cell_type": "code",
   "execution_count": null,
   "metadata": {},
   "outputs": [],
   "source": []
  },
  {
   "cell_type": "code",
   "execution_count": null,
   "metadata": {},
   "outputs": [],
   "source": []
  },
  {
   "cell_type": "code",
   "execution_count": null,
   "metadata": {},
   "outputs": [],
   "source": []
  },
  {
   "cell_type": "code",
   "execution_count": null,
   "metadata": {},
   "outputs": [],
   "source": []
  },
  {
   "cell_type": "markdown",
   "metadata": {},
   "source": [
    "## fine tuning freeze the E layer."
   ]
  },
  {
   "cell_type": "code",
   "execution_count": 89,
   "metadata": {},
   "outputs": [],
   "source": [
    "# for layer in loaded_model_cnn.layers[:2]:\n",
    "#     layer.trainable = False"
   ]
  },
  {
   "cell_type": "code",
   "execution_count": 205,
   "metadata": {},
   "outputs": [
    {
     "data": {
      "text/plain": [
       "<keras.engine.training.Model at 0x1518bf588>"
      ]
     },
     "execution_count": 205,
     "metadata": {},
     "output_type": "execute_result"
    }
   ],
   "source": [
    "loaded_model_cnn"
   ]
  },
  {
   "cell_type": "code",
   "execution_count": 206,
   "metadata": {},
   "outputs": [],
   "source": [
    "from keras import optimizers\n",
    "\n",
    "loaded_model_cnn.compile(loss='binary_crossentropy',\n",
    "              optimizer=optimizers.SGD(lr=1e-4, momentum=0.9),\n",
    "              metrics=['accuracy'])"
   ]
  },
  {
   "cell_type": "code",
   "execution_count": 209,
   "metadata": {},
   "outputs": [
    {
     "name": "stderr",
     "output_type": "stream",
     "text": [
      "/usr/local/Cellar/python3/3.6.3/Frameworks/Python.framework/Versions/3.6/lib/python3.6/site-packages/keras/engine/training.py:953: UserWarning: Discrepancy between trainable weights and collected trainable weights, did you set `model.trainable` without calling `model.compile` after ?\n",
      "  'Discrepancy between trainable weights and collected trainable'\n"
     ]
    },
    {
     "name": "stdout",
     "output_type": "stream",
     "text": [
      "Epoch 1/50\n",
      "811/811 [==============================] - 3s 3ms/step - loss: 1.0257 - acc: 0.4797\n",
      "Epoch 2/50\n",
      "811/811 [==============================] - 2s 3ms/step - loss: 1.0081 - acc: 0.4895\n",
      "Epoch 3/50\n",
      "811/811 [==============================] - 2s 3ms/step - loss: 0.9986 - acc: 0.5129\n",
      "Epoch 4/50\n",
      "811/811 [==============================] - 2s 3ms/step - loss: 0.9799 - acc: 0.4969\n",
      "Epoch 5/50\n",
      "811/811 [==============================] - 2s 3ms/step - loss: 0.9439 - acc: 0.5524\n",
      "Epoch 6/50\n",
      "811/811 [==============================] - 2s 3ms/step - loss: 0.9495 - acc: 0.5425\n",
      "Epoch 7/50\n",
      "811/811 [==============================] - 3s 3ms/step - loss: 0.9213 - acc: 0.5672\n",
      "Epoch 8/50\n",
      "811/811 [==============================] - 3s 4ms/step - loss: 0.9058 - acc: 0.5573\n",
      "Epoch 9/50\n",
      "811/811 [==============================] - 3s 3ms/step - loss: 0.8989 - acc: 0.5894\n",
      "Epoch 10/50\n",
      "811/811 [==============================] - 3s 3ms/step - loss: 0.8430 - acc: 0.6276\n",
      "Epoch 11/50\n",
      "811/811 [==============================] - 3s 3ms/step - loss: 0.8573 - acc: 0.6215\n",
      "Epoch 12/50\n",
      "811/811 [==============================] - 2s 3ms/step - loss: 0.8804 - acc: 0.6042\n",
      "Epoch 13/50\n",
      "811/811 [==============================] - 3s 3ms/step - loss: 0.8460 - acc: 0.6128\n",
      "Epoch 14/50\n",
      "811/811 [==============================] - 2s 3ms/step - loss: 0.8256 - acc: 0.6486\n",
      "Epoch 15/50\n",
      "811/811 [==============================] - 3s 3ms/step - loss: 0.8213 - acc: 0.6276\n",
      "Epoch 16/50\n",
      "811/811 [==============================] - 3s 3ms/step - loss: 0.7851 - acc: 0.6473\n",
      "Epoch 17/50\n",
      "811/811 [==============================] - 3s 3ms/step - loss: 0.7958 - acc: 0.6412\n",
      "Epoch 18/50\n",
      "811/811 [==============================] - 2s 3ms/step - loss: 0.8010 - acc: 0.6387\n",
      "Epoch 19/50\n",
      "811/811 [==============================] - 3s 3ms/step - loss: 0.7529 - acc: 0.6893\n",
      "Epoch 20/50\n",
      "811/811 [==============================] - 3s 3ms/step - loss: 0.6974 - acc: 0.7164\n",
      "Epoch 21/50\n",
      "811/811 [==============================] - 3s 3ms/step - loss: 0.7432 - acc: 0.6843\n",
      "Epoch 22/50\n",
      "811/811 [==============================] - 3s 3ms/step - loss: 0.7058 - acc: 0.6991\n",
      "Epoch 23/50\n",
      "811/811 [==============================] - 3s 3ms/step - loss: 0.7168 - acc: 0.6930\n",
      "Epoch 24/50\n",
      "811/811 [==============================] - 3s 4ms/step - loss: 0.6930 - acc: 0.7028\n",
      "Epoch 25/50\n",
      "811/811 [==============================] - 3s 3ms/step - loss: 0.6479 - acc: 0.7423\n",
      "Epoch 26/50\n",
      "811/811 [==============================] - 3s 3ms/step - loss: 0.6745 - acc: 0.7152\n",
      "Epoch 27/50\n",
      "811/811 [==============================] - 3s 4ms/step - loss: 0.6829 - acc: 0.6979\n",
      "Epoch 28/50\n",
      "811/811 [==============================] - 3s 3ms/step - loss: 0.6267 - acc: 0.7423\n",
      "Epoch 29/50\n",
      "811/811 [==============================] - 3s 4ms/step - loss: 0.6135 - acc: 0.7472\n",
      "Epoch 30/50\n",
      "811/811 [==============================] - 3s 4ms/step - loss: 0.5413 - acc: 0.7928\n",
      "Epoch 31/50\n",
      "811/811 [==============================] - 3s 3ms/step - loss: 0.5707 - acc: 0.7460\n",
      "Epoch 32/50\n",
      "811/811 [==============================] - 3s 3ms/step - loss: 0.6150 - acc: 0.7386\n",
      "Epoch 33/50\n",
      "811/811 [==============================] - 3s 3ms/step - loss: 0.6098 - acc: 0.7361\n",
      "Epoch 34/50\n",
      "811/811 [==============================] - 3s 3ms/step - loss: 0.5614 - acc: 0.7583\n",
      "Epoch 35/50\n",
      "811/811 [==============================] - 3s 3ms/step - loss: 0.5613 - acc: 0.7793\n",
      "Epoch 36/50\n",
      "811/811 [==============================] - 3s 3ms/step - loss: 0.5716 - acc: 0.7522\n",
      "Epoch 37/50\n",
      "811/811 [==============================] - 3s 3ms/step - loss: 0.5750 - acc: 0.7793\n",
      "Epoch 38/50\n",
      "811/811 [==============================] - 3s 3ms/step - loss: 0.5236 - acc: 0.7855\n",
      "Epoch 39/50\n",
      "811/811 [==============================] - 3s 3ms/step - loss: 0.4578 - acc: 0.8175\n",
      "Epoch 40/50\n",
      "811/811 [==============================] - 3s 3ms/step - loss: 0.5691 - acc: 0.7756\n",
      "Epoch 41/50\n",
      "811/811 [==============================] - 3s 4ms/step - loss: 0.4948 - acc: 0.7990\n",
      "Epoch 42/50\n",
      "811/811 [==============================] - 3s 3ms/step - loss: 0.5027 - acc: 0.8076\n",
      "Epoch 43/50\n",
      "811/811 [==============================] - 3s 3ms/step - loss: 0.4888 - acc: 0.8113\n",
      "Epoch 44/50\n",
      "811/811 [==============================] - 3s 3ms/step - loss: 0.4839 - acc: 0.7953\n",
      "Epoch 45/50\n",
      "811/811 [==============================] - 3s 4ms/step - loss: 0.4257 - acc: 0.8323\n",
      "Epoch 46/50\n",
      "811/811 [==============================] - 3s 4ms/step - loss: 0.4673 - acc: 0.8126\n",
      "Epoch 47/50\n",
      "811/811 [==============================] - 3s 3ms/step - loss: 0.5063 - acc: 0.7965\n",
      "Epoch 48/50\n",
      "811/811 [==============================] - 3s 3ms/step - loss: 0.4089 - acc: 0.8496\n",
      "Epoch 49/50\n",
      "811/811 [==============================] - 3s 4ms/step - loss: 0.4285 - acc: 0.8286\n",
      "Epoch 50/50\n",
      "811/811 [==============================] - 3s 4ms/step - loss: 0.4491 - acc: 0.8261\n"
     ]
    },
    {
     "data": {
      "text/plain": [
       "<keras.callbacks.History at 0x14f8b2828>"
      ]
     },
     "execution_count": 209,
     "metadata": {},
     "output_type": "execute_result"
    }
   ],
   "source": [
    "model.fit(xtrain_j_padded, ytrain_j_encode, epochs = 50, verbose = 1)"
   ]
  },
  {
   "cell_type": "code",
   "execution_count": 210,
   "metadata": {},
   "outputs": [
    {
     "name": "stdout",
     "output_type": "stream",
     "text": [
      "91/91 [==============================] - 0s 336us/step\n"
     ]
    },
    {
     "data": {
      "text/plain": [
       "[1.1464553154431856, 0.37362638148632676]"
      ]
     },
     "execution_count": 210,
     "metadata": {},
     "output_type": "execute_result"
    }
   ],
   "source": [
    "model.evaluate(xvalid_j_padded, yvalid_j_encode, verbose=1)\n",
    "\n"
   ]
  },
  {
   "cell_type": "code",
   "execution_count": 198,
   "metadata": {},
   "outputs": [
    {
     "data": {
      "text/plain": [
       "array([[ 0.56672561,  0.73389745,  0.70795316],\n",
       "       [ 0.57732368,  0.72242635,  0.67461312],\n",
       "       [ 0.5309236 ,  0.62222368,  0.64432412],\n",
       "       [ 0.56928533,  0.71467859,  0.54949301],\n",
       "       [ 0.56449795,  0.72219497,  0.62201422],\n",
       "       [ 0.59841526,  0.74573857,  0.67519164],\n",
       "       [ 0.55902815,  0.68835193,  0.64331722],\n",
       "       [ 0.58611625,  0.71452045,  0.69001859],\n",
       "       [ 0.51295358,  0.64920402,  0.53862137],\n",
       "       [ 0.55134469,  0.757043  ,  0.63181067],\n",
       "       [ 0.57384074,  0.66515005,  0.5791015 ],\n",
       "       [ 0.58980799,  0.71968561,  0.68400812],\n",
       "       [ 0.55309194,  0.72721905,  0.65683317],\n",
       "       [ 0.61828309,  0.78509206,  0.62654549],\n",
       "       [ 0.61391252,  0.73033464,  0.59147966],\n",
       "       [ 0.6365335 ,  0.76357466,  0.6770578 ],\n",
       "       [ 0.54124296,  0.68052608,  0.57914257],\n",
       "       [ 0.52879268,  0.68084836,  0.63726395],\n",
       "       [ 0.6163891 ,  0.74945474,  0.63527077],\n",
       "       [ 0.57816744,  0.74919343,  0.73338979],\n",
       "       [ 0.49683559,  0.69961518,  0.65613341],\n",
       "       [ 0.58129811,  0.72238302,  0.59627664],\n",
       "       [ 0.55502766,  0.62397301,  0.6044724 ],\n",
       "       [ 0.57479042,  0.72162551,  0.61726528],\n",
       "       [ 0.62112135,  0.73478985,  0.62709767],\n",
       "       [ 0.59631759,  0.79740673,  0.66823977],\n",
       "       [ 0.54331666,  0.69997853,  0.55220425],\n",
       "       [ 0.56984252,  0.72090924,  0.64949346],\n",
       "       [ 0.52273279,  0.78299677,  0.60640377],\n",
       "       [ 0.57024604,  0.71318007,  0.66107595],\n",
       "       [ 0.54082495,  0.74530482,  0.6657204 ],\n",
       "       [ 0.56841755,  0.70999008,  0.64680243],\n",
       "       [ 0.57190251,  0.69622606,  0.58304918],\n",
       "       [ 0.57689244,  0.70950764,  0.57352465],\n",
       "       [ 0.57291704,  0.80706984,  0.69501424],\n",
       "       [ 0.52045232,  0.63373822,  0.63311875],\n",
       "       [ 0.56370616,  0.70979142,  0.69613087],\n",
       "       [ 0.5568884 ,  0.71119839,  0.64853066],\n",
       "       [ 0.56411821,  0.72918314,  0.62147021],\n",
       "       [ 0.57021666,  0.72842592,  0.64991486],\n",
       "       [ 0.53416324,  0.6269629 ,  0.62874722],\n",
       "       [ 0.60774398,  0.70587081,  0.64981163],\n",
       "       [ 0.61831838,  0.79283214,  0.70113337],\n",
       "       [ 0.53069007,  0.65373844,  0.61535615],\n",
       "       [ 0.55793422,  0.69114423,  0.63391936],\n",
       "       [ 0.55279684,  0.71766609,  0.59555119],\n",
       "       [ 0.56268758,  0.684632  ,  0.49110433],\n",
       "       [ 0.55341822,  0.70896029,  0.62143171],\n",
       "       [ 0.58371973,  0.78878939,  0.64015621],\n",
       "       [ 0.55099148,  0.64400846,  0.62689418],\n",
       "       [ 0.56286317,  0.68173087,  0.58975416],\n",
       "       [ 0.60778397,  0.70469981,  0.6352334 ],\n",
       "       [ 0.5564245 ,  0.71289074,  0.6291185 ],\n",
       "       [ 0.57077897,  0.67794973,  0.71304673],\n",
       "       [ 0.54172593,  0.61251426,  0.65080965],\n",
       "       [ 0.5578087 ,  0.69492269,  0.62517387],\n",
       "       [ 0.60221595,  0.74132442,  0.65813118],\n",
       "       [ 0.55012751,  0.70094544,  0.71804833],\n",
       "       [ 0.64001131,  0.7655161 ,  0.65765029],\n",
       "       [ 0.56866282,  0.70691752,  0.63123322],\n",
       "       [ 0.56204599,  0.75919324,  0.69451851],\n",
       "       [ 0.55324632,  0.69341493,  0.59421885],\n",
       "       [ 0.54666841,  0.69151491,  0.58854973],\n",
       "       [ 0.55201769,  0.69197369,  0.66657048],\n",
       "       [ 0.61404538,  0.78782392,  0.71024245],\n",
       "       [ 0.50348866,  0.65934336,  0.70096511],\n",
       "       [ 0.54234022,  0.64393902,  0.58478856],\n",
       "       [ 0.54384798,  0.70756167,  0.66084772],\n",
       "       [ 0.59575844,  0.79228079,  0.6616618 ],\n",
       "       [ 0.56245977,  0.66641051,  0.56507021],\n",
       "       [ 0.59681785,  0.79680771,  0.66713399],\n",
       "       [ 0.58916348,  0.67739117,  0.60078478],\n",
       "       [ 0.53369945,  0.68888319,  0.65521711],\n",
       "       [ 0.55784339,  0.68463421,  0.61251444],\n",
       "       [ 0.5848456 ,  0.67512292,  0.65474218],\n",
       "       [ 0.59077185,  0.69919544,  0.65451896],\n",
       "       [ 0.60354602,  0.78680515,  0.69318116],\n",
       "       [ 0.58680761,  0.71478224,  0.61004782],\n",
       "       [ 0.57370037,  0.71467978,  0.62698525],\n",
       "       [ 0.53224939,  0.69499522,  0.63059688],\n",
       "       [ 0.55538666,  0.68695194,  0.61632782],\n",
       "       [ 0.55343664,  0.74463946,  0.67879367],\n",
       "       [ 0.57243472,  0.72533101,  0.71655142],\n",
       "       [ 0.5140664 ,  0.76638597,  0.66298807],\n",
       "       [ 0.5525316 ,  0.65478843,  0.58589804],\n",
       "       [ 0.54456335,  0.71879315,  0.66439569],\n",
       "       [ 0.57742828,  0.69081527,  0.66800809],\n",
       "       [ 0.51933199,  0.67487258,  0.6399579 ],\n",
       "       [ 0.59515691,  0.71287531,  0.69886184],\n",
       "       [ 0.58526278,  0.75213552,  0.66951996],\n",
       "       [ 0.59418279,  0.71488893,  0.58042735]], dtype=float32)"
      ]
     },
     "execution_count": 198,
     "metadata": {},
     "output_type": "execute_result"
    }
   ],
   "source": [
    "model.predict(xvalid_j_padded)"
   ]
  },
  {
   "cell_type": "code",
   "execution_count": null,
   "metadata": {},
   "outputs": [],
   "source": []
  },
  {
   "cell_type": "code",
   "execution_count": null,
   "metadata": {},
   "outputs": [],
   "source": []
  },
  {
   "cell_type": "code",
   "execution_count": null,
   "metadata": {},
   "outputs": [],
   "source": []
  },
  {
   "cell_type": "code",
   "execution_count": 90,
   "metadata": {},
   "outputs": [
    {
     "name": "stdout",
     "output_type": "stream",
     "text": [
      "Epoch 1/10\n",
      "  64/1176 [>.............................] - ETA: 2s - loss: 0.7982 - acc: 0.5104"
     ]
    },
    {
     "name": "stderr",
     "output_type": "stream",
     "text": [
      "/usr/local/Cellar/python3/3.6.3/Frameworks/Python.framework/Versions/3.6/lib/python3.6/site-packages/keras/engine/training.py:953: UserWarning: Discrepancy between trainable weights and collected trainable weights, did you set `model.trainable` without calling `model.compile` after ?\n",
      "  'Discrepancy between trainable weights and collected trainable'\n"
     ]
    },
    {
     "name": "stdout",
     "output_type": "stream",
     "text": [
      "1176/1176 [==============================] - 2s 2ms/step - loss: 0.7868 - acc: 0.5105\n",
      "Epoch 2/10\n",
      "1176/1176 [==============================] - 2s 2ms/step - loss: 0.7680 - acc: 0.5162\n",
      "Epoch 3/10\n",
      "1176/1176 [==============================] - 2s 2ms/step - loss: 0.7587 - acc: 0.5156\n",
      "Epoch 4/10\n",
      "1176/1176 [==============================] - 2s 2ms/step - loss: 0.7346 - acc: 0.5334\n",
      "Epoch 5/10\n",
      "1176/1176 [==============================] - 2s 2ms/step - loss: 0.7385 - acc: 0.5357\n",
      "Epoch 6/10\n",
      "1176/1176 [==============================] - 2s 2ms/step - loss: 0.7319 - acc: 0.5266\n",
      "Epoch 7/10\n",
      "1176/1176 [==============================] - 2s 2ms/step - loss: 0.7068 - acc: 0.5468\n",
      "Epoch 8/10\n",
      "1176/1176 [==============================] - 2s 2ms/step - loss: 0.7124 - acc: 0.5454\n",
      "Epoch 9/10\n",
      "1176/1176 [==============================] - 2s 2ms/step - loss: 0.7007 - acc: 0.5496\n",
      "Epoch 10/10\n",
      "1176/1176 [==============================] - 2s 2ms/step - loss: 0.6894 - acc: 0.5683\n"
     ]
    },
    {
     "data": {
      "text/plain": [
       "<keras.callbacks.History at 0x1388d0588>"
      ]
     },
     "execution_count": 90,
     "metadata": {},
     "output_type": "execute_result"
    }
   ],
   "source": [
    "loaded_model_cnn.fit(xtrain_j_padded, ytrain_j_encode, epochs=10, verbose=1)"
   ]
  },
  {
   "cell_type": "markdown",
   "metadata": {},
   "source": [
    "## the third writer"
   ]
  },
  {
   "cell_type": "code",
   "execution_count": 91,
   "metadata": {},
   "outputs": [
    {
     "name": "stderr",
     "output_type": "stream",
     "text": [
      "/usr/local/Cellar/python3/3.6.3/Frameworks/Python.framework/Versions/3.6/lib/python3.6/site-packages/ipykernel_launcher.py:1: ParserWarning: Falling back to the 'python' engine because the 'c' engine does not support regex separators (separators > 1 char and different from '\\s+' are interpreted as regex); you can avoid this warning by specifying engine='python'.\n",
      "  \"\"\"Entry point for launching an IPython kernel.\n",
      "/usr/local/Cellar/python3/3.6.3/Frameworks/Python.framework/Versions/3.6/lib/python3.6/site-packages/ipykernel_launcher.py:2: ParserWarning: Falling back to the 'python' engine because the 'c' engine does not support regex separators (separators > 1 char and different from '\\s+' are interpreted as regex); you can avoid this warning by specifying engine='python'.\n",
      "  \n",
      "/usr/local/Cellar/python3/3.6.3/Frameworks/Python.framework/Versions/3.6/lib/python3.6/site-packages/ipykernel_launcher.py:3: ParserWarning: Falling back to the 'python' engine because the 'c' engine does not support regex separators (separators > 1 char and different from '\\s+' are interpreted as regex); you can avoid this warning by specifying engine='python'.\n",
      "  This is separate from the ipykernel package so we can avoid doing imports until\n",
      "/usr/local/Cellar/python3/3.6.3/Frameworks/Python.framework/Versions/3.6/lib/python3.6/site-packages/ipykernel_launcher.py:4: ParserWarning: Falling back to the 'python' engine because the 'c' engine does not support regex separators (separators > 1 char and different from '\\s+' are interpreted as regex); you can avoid this warning by specifying engine='python'.\n",
      "  after removing the cwd from sys.path.\n",
      "/usr/local/Cellar/python3/3.6.3/Frameworks/Python.framework/Versions/3.6/lib/python3.6/site-packages/ipykernel_launcher.py:5: ParserWarning: Falling back to the 'python' engine because the 'c' engine does not support regex separators (separators > 1 char and different from '\\s+' are interpreted as regex); you can avoid this warning by specifying engine='python'.\n",
      "  \"\"\"\n"
     ]
    }
   ],
   "source": [
    "ids = pd.read_csv(\"scale_data/scaledata/Scott+Renshaw/id.Scott+Renshaw.txt\", sep=\"[\\r\\n]+\", header=None, names=[\"id\"])\n",
    "label_3class = pd.read_csv(\"scale_data/scaledata/Scott+Renshaw/label.3class.Scott+Renshaw.txt\", sep=\"[\\r\\n]+\", names=[\"3class_label\"])\n",
    "label_4class = pd.read_csv(\"scale_data/scaledata/Scott+Renshaw/label.4class.Scott+Renshaw.txt\", sep=\"[\\r\\n]+\",names=[\"4class_label\"])\n",
    "rating = pd.read_csv(\"scale_data/scaledata/Scott+Renshaw/rating.Scott+Renshaw.txt\", sep=\"[\\r\\n]+\",names=[\"rating\"])\n",
    "subj = pd.read_csv(\"scale_data/scaledata/Scott+Renshaw/subj.Scott+Renshaw.txt\", sep=\"[\\r\\n]+\",names=[\"subj_extraction\"])"
   ]
  },
  {
   "cell_type": "code",
   "execution_count": 133,
   "metadata": {},
   "outputs": [],
   "source": [
    "scott = pd.concat([ids,label_3class, label_4class, rating, subj], axis = 1)\n",
    "# y_s is a column with 3 values: 0,1,2\n",
    "y_s = scott['3class_label']\n",
    "scott['n']=scott.apply(lambda x:x[\"3class_label\"]==0, axis=1)\n",
    "scott[\"neg\"]=scott.apply(lambda x:x[\"3class_label\"]==1, axis=1)\n",
    "scott[\"pos\"]=scott.apply(lambda x:x[\"3class_label\"]==2, axis=1)\n",
    "# y_s_encode are three columns with binary values for each column\n",
    "y_s_encode = scott[['n', 'neg', 'pos']]\n",
    "x_s = scott['subj_extraction']\n",
    "x_s_padded = gd.padded_doc(x_s)"
   ]
  },
  {
   "cell_type": "code",
   "execution_count": 134,
   "metadata": {},
   "outputs": [],
   "source": [
    "xtrain_s, xvalid_s, ytrain_s, yvalid_s = train_test_split(x_s_padded, y_s,  \n",
    "                                                  random_state=42, \n",
    "                                                  test_size=0.1, shuffle=False)"
   ]
  },
  {
   "cell_type": "code",
   "execution_count": 135,
   "metadata": {},
   "outputs": [],
   "source": [
    "xtrain_s, xvalid_s, ytrain_s_encode, yvalid_s_encode = train_test_split(x_s_padded, y_s_encode, \n",
    "                                                  random_state=42, \n",
    "                                                  test_size=0.1, shuffle=False)"
   ]
  },
  {
   "cell_type": "markdown",
   "metadata": {},
   "source": [
    "## the fourth writer"
   ]
  },
  {
   "cell_type": "code",
   "execution_count": 98,
   "metadata": {},
   "outputs": [
    {
     "name": "stderr",
     "output_type": "stream",
     "text": [
      "/usr/local/Cellar/python3/3.6.3/Frameworks/Python.framework/Versions/3.6/lib/python3.6/site-packages/ipykernel_launcher.py:1: ParserWarning: Falling back to the 'python' engine because the 'c' engine does not support regex separators (separators > 1 char and different from '\\s+' are interpreted as regex); you can avoid this warning by specifying engine='python'.\n",
      "  \"\"\"Entry point for launching an IPython kernel.\n",
      "/usr/local/Cellar/python3/3.6.3/Frameworks/Python.framework/Versions/3.6/lib/python3.6/site-packages/ipykernel_launcher.py:2: ParserWarning: Falling back to the 'python' engine because the 'c' engine does not support regex separators (separators > 1 char and different from '\\s+' are interpreted as regex); you can avoid this warning by specifying engine='python'.\n",
      "  \n",
      "/usr/local/Cellar/python3/3.6.3/Frameworks/Python.framework/Versions/3.6/lib/python3.6/site-packages/ipykernel_launcher.py:3: ParserWarning: Falling back to the 'python' engine because the 'c' engine does not support regex separators (separators > 1 char and different from '\\s+' are interpreted as regex); you can avoid this warning by specifying engine='python'.\n",
      "  This is separate from the ipykernel package so we can avoid doing imports until\n",
      "/usr/local/Cellar/python3/3.6.3/Frameworks/Python.framework/Versions/3.6/lib/python3.6/site-packages/ipykernel_launcher.py:4: ParserWarning: Falling back to the 'python' engine because the 'c' engine does not support regex separators (separators > 1 char and different from '\\s+' are interpreted as regex); you can avoid this warning by specifying engine='python'.\n",
      "  after removing the cwd from sys.path.\n",
      "/usr/local/Cellar/python3/3.6.3/Frameworks/Python.framework/Versions/3.6/lib/python3.6/site-packages/ipykernel_launcher.py:5: ParserWarning: Falling back to the 'python' engine because the 'c' engine does not support regex separators (separators > 1 char and different from '\\s+' are interpreted as regex); you can avoid this warning by specifying engine='python'.\n",
      "  \"\"\"\n"
     ]
    }
   ],
   "source": [
    "ids = pd.read_csv(\"scale_data/scaledata/Steve+Rhodes/id.Steve+Rhodes.txt\", sep=\"[\\r\\n]+\", header=None, names=[\"id\"])\n",
    "label_3class = pd.read_csv(\"scale_data/scaledata/Steve+Rhodes/label.3class.Steve+Rhodes.txt\", sep=\"[\\r\\n]+\", names=[\"3class_label\"])\n",
    "label_4class = pd.read_csv(\"scale_data/scaledata/Steve+Rhodes/label.4class.Steve+Rhodes.txt\", sep=\"[\\r\\n]+\",names=[\"4class_label\"])\n",
    "rating = pd.read_csv(\"scale_data/scaledata/Steve+Rhodes/rating.Steve+Rhodes.txt\", sep=\"[\\r\\n]+\",names=[\"rating\"])\n",
    "subj = pd.read_csv(\"scale_data/scaledata/Steve+Rhodes/subj.Steve+Rhodes.txt\", sep=\"[\\r\\n]+\",names=[\"subj_extraction\"])"
   ]
  },
  {
   "cell_type": "code",
   "execution_count": 117,
   "metadata": {},
   "outputs": [],
   "source": [
    "Rhodes = pd.concat([ids,label_3class, label_4class, rating, subj], axis = 1)\n",
    "# y_s is a column with 3 values: 0,1,2\n",
    "y_r = scott['3class_label']\n",
    "Rhodes['n']=Rhodes.apply(lambda x:x[\"3class_label\"]==0, axis=1)\n",
    "Rhodes[\"neg\"]=Rhodes.apply(lambda x:x[\"3class_label\"]==1, axis=1)\n",
    "Rhodes[\"pos\"]=Rhodes.apply(lambda x:x[\"3class_label\"]==2, axis=1)\n",
    "# y_s_encode are three columns with binary values for each column\n",
    "y_r_encode = Rhodes[['n', 'neg', 'pos']]\n",
    "x_r = Rhodes['subj_extraction']\n",
    "x_r_padded = gd.padded_doc(x_r)"
   ]
  },
  {
   "cell_type": "code",
   "execution_count": 127,
   "metadata": {},
   "outputs": [],
   "source": [
    "xtrain_r_padded, xvalid_r_padded, ytrain_r, yvalid_r = train_test_split(x_r_padded, y_r,  \n",
    "                                                  random_state=42, \n",
    "                                                  test_size=0.1, shuffle=False)"
   ]
  },
  {
   "cell_type": "code",
   "execution_count": 129,
   "metadata": {},
   "outputs": [],
   "source": [
    "xtrain_r_padded, xvalid_r_padded, ytrain_r_encode, yvalid_r_encode = train_test_split(x_r_padded, y_r_encode, \n",
    "                                                  random_state=42, \n",
    "                                                  test_size=0.1, shuffle=False)"
   ]
  },
  {
   "cell_type": "markdown",
   "metadata": {},
   "source": [
    "### preparation: total text for embedding matrix"
   ]
  },
  {
   "cell_type": "code",
   "execution_count": 106,
   "metadata": {},
   "outputs": [],
   "source": [
    "# total text\n",
    "x_d = list(x_d)\n",
    "x_j = list(x_j)\n",
    "x_s = list(x_s)\n",
    "x_r = list(x_r)\n",
    "total_text = x_d+x_j+x_s+x_r"
   ]
  },
  {
   "cell_type": "code",
   "execution_count": 107,
   "metadata": {},
   "outputs": [],
   "source": [
    "# get embedding_matrix for total_text\n",
    "vocab_size, embedding_matrix, padded_docs = gd.get_glove_m(total_text)"
   ]
  },
  {
   "cell_type": "markdown",
   "metadata": {},
   "source": [
    "### preparation: get padded text "
   ]
  },
  {
   "cell_type": "code",
   "execution_count": null,
   "metadata": {},
   "outputs": [],
   "source": []
  },
  {
   "cell_type": "markdown",
   "metadata": {},
   "source": [
    "## Train the model from the first writer"
   ]
  },
  {
   "cell_type": "code",
   "execution_count": 143,
   "metadata": {},
   "outputs": [
    {
     "name": "stdout",
     "output_type": "stream",
     "text": [
      "Initializing embedding layer with glove weights, shape (41441, 100)\n"
     ]
    }
   ],
   "source": [
    "Model_cnn = build_model(embedding_matrix, vocab_size)"
   ]
  },
  {
   "cell_type": "code",
   "execution_count": 144,
   "metadata": {},
   "outputs": [
    {
     "name": "stdout",
     "output_type": "stream",
     "text": [
      "Epoch 1/10\n",
      "924/924 [==============================] - 5s 5ms/step - loss: 1.0485 - acc: 0.3355\n",
      "Epoch 2/10\n",
      "924/924 [==============================] - 3s 3ms/step - loss: 0.9433 - acc: 0.3550\n",
      "Epoch 3/10\n",
      "924/924 [==============================] - 3s 3ms/step - loss: 0.9428 - acc: 0.3983\n",
      "Epoch 4/10\n",
      "924/924 [==============================] - 3s 3ms/step - loss: 0.9284 - acc: 0.4091\n",
      "Epoch 5/10\n",
      "924/924 [==============================] - 3s 3ms/step - loss: 0.9241 - acc: 0.4253\n",
      "Epoch 6/10\n",
      "924/924 [==============================] - 3s 3ms/step - loss: 0.9233 - acc: 0.4405\n",
      "Epoch 7/10\n",
      "924/924 [==============================] - 3s 3ms/step - loss: 0.9256 - acc: 0.4275\n",
      "Epoch 8/10\n",
      "924/924 [==============================] - 3s 3ms/step - loss: 0.9182 - acc: 0.4318\n",
      "Epoch 9/10\n",
      "924/924 [==============================] - 3s 3ms/step - loss: 0.9134 - acc: 0.4318\n",
      "Epoch 10/10\n",
      "924/924 [==============================] - 3s 3ms/step - loss: 0.9119 - acc: 0.4318\n"
     ]
    },
    {
     "data": {
      "text/plain": [
       "<keras.callbacks.History at 0x138d5cc50>"
      ]
     },
     "execution_count": 144,
     "metadata": {},
     "output_type": "execute_result"
    }
   ],
   "source": [
    "Model_cnn.fit(xtrain_d_padded, ytrain_d_encode, epochs=10, verbose=1)"
   ]
  },
  {
   "cell_type": "code",
   "execution_count": 145,
   "metadata": {},
   "outputs": [
    {
     "name": "stdout",
     "output_type": "stream",
     "text": [
      "Saved model to disk\n"
     ]
    }
   ],
   "source": [
    "# serialize model to JSON\n",
    "model_cnn_json = model.to_json()\n",
    "with open(\"model_gl_cnn.json\", \"w\") as json_file:\n",
    "    json_file.write(model_cnn_json)\n",
    "# serialize weights to HDF5\n",
    "model.save_weights(\"model_gl_cnn.h5\")\n",
    "print(\"Saved model to disk\")"
   ]
  },
  {
   "cell_type": "markdown",
   "metadata": {},
   "source": [
    "## train on the second (pretrained on B)"
   ]
  },
  {
   "cell_type": "code",
   "execution_count": 149,
   "metadata": {},
   "outputs": [
    {
     "name": "stdout",
     "output_type": "stream",
     "text": [
      "Epoch 1/10\n",
      "811/811 [==============================] - 2s 3ms/step - loss: 1.0767 - acc: 0.3822\n",
      "Epoch 2/10\n",
      "811/811 [==============================] - 2s 3ms/step - loss: 1.0709 - acc: 0.3822\n",
      "Epoch 3/10\n",
      "811/811 [==============================] - 2s 3ms/step - loss: 1.0714 - acc: 0.3798\n",
      "Epoch 4/10\n",
      "811/811 [==============================] - 2s 3ms/step - loss: 1.0808 - acc: 0.3810\n",
      "Epoch 5/10\n",
      "811/811 [==============================] - 2s 3ms/step - loss: 1.0612 - acc: 0.3847\n",
      "Epoch 6/10\n",
      "811/811 [==============================] - 2s 3ms/step - loss: 1.0583 - acc: 0.3859\n",
      "Epoch 7/10\n",
      "811/811 [==============================] - 2s 3ms/step - loss: 1.0680 - acc: 0.3896\n",
      "Epoch 8/10\n",
      "811/811 [==============================] - 3s 3ms/step - loss: 1.0662 - acc: 0.3933\n",
      "Epoch 9/10\n",
      "811/811 [==============================] - 3s 3ms/step - loss: 1.0477 - acc: 0.3933\n",
      "Epoch 10/10\n",
      "811/811 [==============================] - 2s 3ms/step - loss: 1.0436 - acc: 0.3872\n"
     ]
    },
    {
     "data": {
      "text/plain": [
       "<keras.callbacks.History at 0x13fb20978>"
      ]
     },
     "execution_count": 149,
     "metadata": {},
     "output_type": "execute_result"
    }
   ],
   "source": [
    "Model_cnn.fit(xtrain_j_padded, ytrain_j_encode, epochs=10, verbose=1)"
   ]
  },
  {
   "cell_type": "code",
   "execution_count": 155,
   "metadata": {},
   "outputs": [
    {
     "name": "stdout",
     "output_type": "stream",
     "text": [
      "91/91 [==============================] - 0s 247us/step\n",
      "acc: 54.21%\n"
     ]
    },
    {
     "data": {
      "text/plain": [
       "array([[ 0.81836802,  0.93762517,  0.77988225],\n",
       "       [ 0.68789679,  0.93742245,  0.75056595],\n",
       "       [ 0.71980613,  0.9147976 ,  0.77256364],\n",
       "       [ 0.68642354,  0.91774011,  0.78740674],\n",
       "       [ 0.69518661,  0.90007198,  0.70963788],\n",
       "       [ 0.71924949,  0.90312862,  0.78281647],\n",
       "       [ 0.64705807,  0.94560784,  0.83421904],\n",
       "       [ 0.59793162,  0.88889885,  0.74650306],\n",
       "       [ 0.57446182,  0.88032877,  0.78512013],\n",
       "       [ 0.68418664,  0.91499037,  0.78228426],\n",
       "       [ 0.75535387,  0.9332456 ,  0.81973702],\n",
       "       [ 0.74912798,  0.93696374,  0.72559249],\n",
       "       [ 0.67369902,  0.93870443,  0.80707961],\n",
       "       [ 0.61071694,  0.93996388,  0.80251342],\n",
       "       [ 0.71017903,  0.91614455,  0.80288166],\n",
       "       [ 0.64273942,  0.93425745,  0.79099518],\n",
       "       [ 0.67749566,  0.90729791,  0.77032697],\n",
       "       [ 0.59798819,  0.91707909,  0.80967766],\n",
       "       [ 0.69291252,  0.9386313 ,  0.78256845],\n",
       "       [ 0.72203147,  0.95351833,  0.78164041],\n",
       "       [ 0.69630164,  0.90479159,  0.81340337],\n",
       "       [ 0.71930724,  0.94637632,  0.77669054],\n",
       "       [ 0.68359697,  0.90746999,  0.74371165],\n",
       "       [ 0.77166748,  0.95046175,  0.76314396],\n",
       "       [ 0.68695283,  0.93163872,  0.84262758],\n",
       "       [ 0.55748582,  0.90813458,  0.66367561],\n",
       "       [ 0.67135632,  0.89292824,  0.76888883],\n",
       "       [ 0.57583117,  0.89917415,  0.88388985],\n",
       "       [ 0.65707684,  0.93754321,  0.71790045],\n",
       "       [ 0.70526969,  0.90567559,  0.84361297],\n",
       "       [ 0.71721911,  0.92472899,  0.68898946],\n",
       "       [ 0.5711211 ,  0.88743943,  0.76770276],\n",
       "       [ 0.64106566,  0.94645184,  0.77550358],\n",
       "       [ 0.65855336,  0.90464282,  0.70336097],\n",
       "       [ 0.74469459,  0.95245445,  0.80104822],\n",
       "       [ 0.67374849,  0.94504631,  0.75951105],\n",
       "       [ 0.65699214,  0.94889438,  0.78233337],\n",
       "       [ 0.68399566,  0.95807832,  0.78548592],\n",
       "       [ 0.57761025,  0.95089531,  0.78510892],\n",
       "       [ 0.51097077,  0.89250159,  0.70786691],\n",
       "       [ 0.72052968,  0.91147459,  0.83017796],\n",
       "       [ 0.53799814,  0.91801858,  0.66788322],\n",
       "       [ 0.64854473,  0.91891062,  0.86072475],\n",
       "       [ 0.70717788,  0.92946464,  0.77885002],\n",
       "       [ 0.67274821,  0.93988013,  0.81314224],\n",
       "       [ 0.61923611,  0.92885053,  0.75066555],\n",
       "       [ 0.67671204,  0.89013761,  0.76878202],\n",
       "       [ 0.58033544,  0.87589139,  0.75265127],\n",
       "       [ 0.5571841 ,  0.92874861,  0.74848604],\n",
       "       [ 0.65744597,  0.91372764,  0.76099157],\n",
       "       [ 0.75714892,  0.93483371,  0.75502014],\n",
       "       [ 0.67416489,  0.89971155,  0.72400171],\n",
       "       [ 0.64748025,  0.94320172,  0.79531938],\n",
       "       [ 0.63086367,  0.92620099,  0.82309443],\n",
       "       [ 0.67937422,  0.91499418,  0.84209335],\n",
       "       [ 0.74183249,  0.93366206,  0.76908177],\n",
       "       [ 0.70314687,  0.94241536,  0.76691061],\n",
       "       [ 0.67504275,  0.92745668,  0.82030678],\n",
       "       [ 0.71066684,  0.94108915,  0.80430669],\n",
       "       [ 0.8055169 ,  0.94549495,  0.83752948],\n",
       "       [ 0.65088499,  0.94999504,  0.64681953],\n",
       "       [ 0.62774378,  0.87380522,  0.75135082],\n",
       "       [ 0.66533977,  0.94645411,  0.82947564],\n",
       "       [ 0.68364388,  0.93861699,  0.74420071],\n",
       "       [ 0.65988922,  0.93605089,  0.67239392],\n",
       "       [ 0.77062857,  0.93614197,  0.74623752],\n",
       "       [ 0.70954025,  0.94147742,  0.74921501],\n",
       "       [ 0.53777921,  0.91922778,  0.75545156],\n",
       "       [ 0.68354845,  0.91748434,  0.75436676],\n",
       "       [ 0.64342445,  0.94205672,  0.72756463],\n",
       "       [ 0.69935244,  0.92071998,  0.73195153],\n",
       "       [ 0.444049  ,  0.87520009,  0.80886066],\n",
       "       [ 0.62177891,  0.9270907 ,  0.7377432 ],\n",
       "       [ 0.57530379,  0.92103195,  0.69161707],\n",
       "       [ 0.73876089,  0.95431185,  0.70120925],\n",
       "       [ 0.59514958,  0.93017876,  0.71636403],\n",
       "       [ 0.54395568,  0.90379542,  0.8239122 ],\n",
       "       [ 0.77272177,  0.94683522,  0.75384068],\n",
       "       [ 0.58232504,  0.89427108,  0.73622692],\n",
       "       [ 0.60067642,  0.89795119,  0.75367451],\n",
       "       [ 0.60777217,  0.8978653 ,  0.79647392],\n",
       "       [ 0.69221532,  0.94014084,  0.84537697],\n",
       "       [ 0.66246283,  0.92342204,  0.83994901],\n",
       "       [ 0.68166959,  0.9437204 ,  0.75947392],\n",
       "       [ 0.70924079,  0.94712591,  0.86296958],\n",
       "       [ 0.62842226,  0.94663769,  0.85797513],\n",
       "       [ 0.58140713,  0.90597939,  0.75898886],\n",
       "       [ 0.66441411,  0.94631773,  0.73606622],\n",
       "       [ 0.47065106,  0.92785901,  0.65290272],\n",
       "       [ 0.71977419,  0.9432714 ,  0.77361006],\n",
       "       [ 0.6647591 ,  0.9295966 ,  0.7408011 ]], dtype=float32)"
      ]
     },
     "execution_count": 155,
     "metadata": {},
     "output_type": "execute_result"
    }
   ],
   "source": [
    "Model_cnn.evaluate(xvalid_j_padded, yvalid_j_encode, verbose=1)\n",
    "print(\"%s: %.2f%%\" % (Model_cnn.metrics_names[1], score[1]*100))\n",
    "Model_cnn.predict(xvalid_j_padded)"
   ]
  },
  {
   "cell_type": "code",
   "execution_count": 148,
   "metadata": {},
   "outputs": [
    {
     "name": "stdout",
     "output_type": "stream",
     "text": [
      "Loaded model from disk\n",
      "91/91 [==============================] - 1s 8ms/step\n",
      "acc: 54.21%\n"
     ]
    }
   ],
   "source": [
    "# load json and create model\n",
    "json_file = open('model_gl_cnn.json', 'r')\n",
    "loaded_model_cnn_json = json_file.read()\n",
    "json_file.close()\n",
    "loaded_model_cnn = model_from_json(loaded_model_cnn_json)\n",
    "# load weights into new model\n",
    "loaded_model_cnn.load_weights(\"model_gl_cnn.h5\")\n",
    "print(\"Loaded model from disk\")\n",
    " \n",
    "# evaluate loaded model on test data\n",
    "loaded_model_cnn.compile(loss='binary_crossentropy', optimizer='rmsprop', metrics=['accuracy'])\n",
    "score = loaded_model_cnn.evaluate(xvalid_j_padded, yvalid_j_encode, verbose=1)\n",
    "print(\"%s: %.2f%%\" % (loaded_model_cnn.metrics_names[1], score[1]*100))\n",
    "# loaded_model.summary()"
   ]
  },
  {
   "cell_type": "code",
   "execution_count": null,
   "metadata": {},
   "outputs": [],
   "source": []
  }
 ],
 "metadata": {
  "kernelspec": {
   "display_name": "Python 3",
   "language": "python",
   "name": "python3"
  },
  "language_info": {
   "codemirror_mode": {
    "name": "ipython",
    "version": 3
   },
   "file_extension": ".py",
   "mimetype": "text/x-python",
   "name": "python",
   "nbconvert_exporter": "python",
   "pygments_lexer": "ipython3",
   "version": "3.6.3"
  }
 },
 "nbformat": 4,
 "nbformat_minor": 2
}
