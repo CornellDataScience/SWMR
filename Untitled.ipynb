{
 "cells": [
  {
   "cell_type": "code",
   "execution_count": 1,
   "metadata": {},
   "outputs": [],
   "source": [
    "import pandas as pd\n",
    "import numpy as np\n",
    "%matplotlib inline\n",
    "from sklearn.linear_model import LogisticRegression\n",
    "from sklearn.feature_extraction.text import CountVectorizer, TfidfVectorizer\n"
   ]
  },
  {
   "cell_type": "code",
   "execution_count": 2,
   "metadata": {},
   "outputs": [
    {
     "name": "stderr",
     "output_type": "stream",
     "text": [
      "/usr/local/lib/python3.6/site-packages/ipykernel_launcher.py:1: ParserWarning: Falling back to the 'python' engine because the 'c' engine does not support regex separators (separators > 1 char and different from '\\s+' are interpreted as regex); you can avoid this warning by specifying engine='python'.\n",
      "  \"\"\"Entry point for launching an IPython kernel.\n",
      "/usr/local/lib/python3.6/site-packages/ipykernel_launcher.py:2: ParserWarning: Falling back to the 'python' engine because the 'c' engine does not support regex separators (separators > 1 char and different from '\\s+' are interpreted as regex); you can avoid this warning by specifying engine='python'.\n",
      "  \n",
      "/usr/local/lib/python3.6/site-packages/ipykernel_launcher.py:3: ParserWarning: Falling back to the 'python' engine because the 'c' engine does not support regex separators (separators > 1 char and different from '\\s+' are interpreted as regex); you can avoid this warning by specifying engine='python'.\n",
      "  This is separate from the ipykernel package so we can avoid doing imports until\n",
      "/usr/local/lib/python3.6/site-packages/ipykernel_launcher.py:4: ParserWarning: Falling back to the 'python' engine because the 'c' engine does not support regex separators (separators > 1 char and different from '\\s+' are interpreted as regex); you can avoid this warning by specifying engine='python'.\n",
      "  after removing the cwd from sys.path.\n",
      "/usr/local/lib/python3.6/site-packages/ipykernel_launcher.py:5: ParserWarning: Falling back to the 'python' engine because the 'c' engine does not support regex separators (separators > 1 char and different from '\\s+' are interpreted as regex); you can avoid this warning by specifying engine='python'.\n",
      "  \"\"\"\n"
     ]
    }
   ],
   "source": [
    "ids = pd.read_csv(\"scale_data/scaledata/Dennis+Schwartz/id.Dennis+Schwartz.txt\", sep=\"[\\r\\n]+\", header=None, names=[\"id\"])\n",
    "label_3class = pd.read_csv(\"scale_data/scaledata/Dennis+Schwartz/label.3class.Dennis+Schwartz.txt\", sep=\"[\\r\\n]+\", names=[\"3class_label\"])\n",
    "label_4class = pd.read_csv(\"scale_data/scaledata/Dennis+Schwartz/label.4class.Dennis+Schwartz.txt\", sep=\"[\\r\\n]+\",names=[\"4class_label\"])\n",
    "rating = pd.read_csv(\"scale_data/scaledata/Dennis+Schwartz/rating.Dennis+Schwartz.txt\", sep=\"[\\r\\n]+\",names=[\"rating\"])\n",
    "subj = pd.read_csv(\"scale_data/scaledata/Dennis+Schwartz/subj.Dennis+Schwartz.txt\", sep=\"[\\r\\n]+\",names=[\"subj_extraction\"])"
   ]
  },
  {
   "cell_type": "code",
   "execution_count": 3,
   "metadata": {},
   "outputs": [],
   "source": [
    "dennis = pd.concat([ids,label_3class, label_4class, rating, subj], axis = 1)"
   ]
  },
  {
   "cell_type": "code",
   "execution_count": 4,
   "metadata": {},
   "outputs": [
    {
     "data": {
      "text/html": [
       "<div>\n",
       "<style scoped>\n",
       "    .dataframe tbody tr th:only-of-type {\n",
       "        vertical-align: middle;\n",
       "    }\n",
       "\n",
       "    .dataframe tbody tr th {\n",
       "        vertical-align: top;\n",
       "    }\n",
       "\n",
       "    .dataframe thead th {\n",
       "        text-align: right;\n",
       "    }\n",
       "</style>\n",
       "<table border=\"1\" class=\"dataframe\">\n",
       "  <thead>\n",
       "    <tr style=\"text-align: right;\">\n",
       "      <th></th>\n",
       "      <th>id</th>\n",
       "      <th>3class_label</th>\n",
       "      <th>4class_label</th>\n",
       "      <th>rating</th>\n",
       "      <th>subj_extraction</th>\n",
       "    </tr>\n",
       "  </thead>\n",
       "  <tbody>\n",
       "    <tr>\n",
       "      <th>0</th>\n",
       "      <td>29420</td>\n",
       "      <td>0</td>\n",
       "      <td>0</td>\n",
       "      <td>0.1</td>\n",
       "      <td>in my opinion , a movie reviewer's most import...</td>\n",
       "    </tr>\n",
       "    <tr>\n",
       "      <th>1</th>\n",
       "      <td>17219</td>\n",
       "      <td>0</td>\n",
       "      <td>0</td>\n",
       "      <td>0.2</td>\n",
       "      <td>you can watch this movie , that is based on a ...</td>\n",
       "    </tr>\n",
       "    <tr>\n",
       "      <th>2</th>\n",
       "      <td>18406</td>\n",
       "      <td>0</td>\n",
       "      <td>0</td>\n",
       "      <td>0.2</td>\n",
       "      <td>this is asking a lot to believe , and though i...</td>\n",
       "    </tr>\n",
       "    <tr>\n",
       "      <th>3</th>\n",
       "      <td>18648</td>\n",
       "      <td>0</td>\n",
       "      <td>0</td>\n",
       "      <td>0.2</td>\n",
       "      <td>no heroes and no story are the main attributes...</td>\n",
       "    </tr>\n",
       "    <tr>\n",
       "      <th>4</th>\n",
       "      <td>20021</td>\n",
       "      <td>0</td>\n",
       "      <td>0</td>\n",
       "      <td>0.2</td>\n",
       "      <td>this is not an art movie , yet i saw it an art...</td>\n",
       "    </tr>\n",
       "  </tbody>\n",
       "</table>\n",
       "</div>"
      ],
      "text/plain": [
       "      id  3class_label  4class_label  rating  \\\n",
       "0  29420             0             0     0.1   \n",
       "1  17219             0             0     0.2   \n",
       "2  18406             0             0     0.2   \n",
       "3  18648             0             0     0.2   \n",
       "4  20021             0             0     0.2   \n",
       "\n",
       "                                     subj_extraction  \n",
       "0  in my opinion , a movie reviewer's most import...  \n",
       "1  you can watch this movie , that is based on a ...  \n",
       "2  this is asking a lot to believe , and though i...  \n",
       "3  no heroes and no story are the main attributes...  \n",
       "4  this is not an art movie , yet i saw it an art...  "
      ]
     },
     "execution_count": 4,
     "metadata": {},
     "output_type": "execute_result"
    }
   ],
   "source": [
    "dennis.head()"
   ]
  },
  {
   "cell_type": "code",
   "execution_count": 6,
   "metadata": {},
   "outputs": [
    {
     "data": {
      "text/plain": [
       "array([ \"in my opinion , a movie reviewer's most important task is to offer an explanation for his opinion . but with soul survivors , i'm so full of critical rage that this review is liable to turn into a venomous , uncontrollable rant , obligations damned . however , protocol forces me to do otherwise . rarely have i seen a director so thoroughly mishandle material . in his directorial debut , steve carpenter does nothing to provoke the audience into feeling any emotion . when the movie's camerawork isn't pedestrian , it's clich ? d . carpenter's need for close-ups , his camera following sagemiller from behind , drain the movie of any anticipation . we already know what to look for , so why should we be surprised ? and the sense of scary atmosphere , which was recently done so well in the others , is nowhere to be found here . carpenter's script relies on random twists and turns with a minimum of logic and loads of laziness . this is a movie where the ending features one character providing an explanation about the plot to another character , which is one of the lamest screenwriting devices around . and guess what ? this movie has both ! not that the main body of the film , which has sagemiller constantly running in fear or having a nervous breakdown , is anything worthwhile . since there's no captivating dialogue , no character chemistry exists anywhere . that's a huge problem , since the four main characters are supposed to be couples . carpenter can't even get the smutty scenes right , which are becoming more prevalent in pg-13 movies like bring it on and get over it . [the film was recently re-cut from an r rating to get more kids in the seats . -ed . ] when sagemiller and dushku dance together at a club , he rarely shows them in a full shot and he never keeps the camera on them for longer than a second before relating to some michael bay-style quick cuts . regardless , any sexiness in that scene is undercut by its stupidity . why wouldn't they wash the clothes in the sink or in the washing machine ? the cast , which will see better material in the future , would be wise to leave this one off their resumes . i felt sorry for affleck , who i've liked in other movies , and bentley , who was great in american beauty . and i'm not even getting into luke wilson's role as a priest . bottom line : soul survivors is so awful i feel compelled to knock on doors and warn people about it . rating : * [lowest rating] |------------------------------| \\\\ * * * * * perfection \\\\ \\\\ * * * * good , memorable film \\\\ \\\\ * * * average , hits and misses \\\\ \\\\ * * sub-par on many levels \\\\ \\\\ * unquestionably awful \\\\ |------------------------------| mpaa rating : pg-13\",\n",
       "       'you can watch this movie , that is based on a sci-fi work by robert heinlein , either as a straight gung-ho war film , or you can see it mostly as a spoof . anyway you watch it won\\'t require too much gray matter from your brain cells , because you will either find this film entertaining and a feast for weary eyes , or you might , like me , \" think \" that this film is so bad that it really couldn\\'t be this bad , i must be missing something . but i have come to the conclusion that this insipid b- movie , is that bad , despite the high production costs it took to make it . if there are any good parts to this film , it might be in the occasional sardonic one liner , such as this one , that makes light of the film\\'s heavy assault on our sensibilities , as one soldier is telling the hero of the story , \" you\\'re good at killing bugs . \" basically , the film should be seen as a war movie , because its spoof of the military , grew thin very fast for me , as it got carried away with the cartoon characters it has stereotyped , going for an overkill on a spoof that is so obvious in the first place , that by spending so much time with spoofing the military , is just plain unnecessary . i guess the film is set in the future , but it sure looks like the present to me despite all the computer graphics , as it makes use of its astronomical budget to become solely a computerized special effect movie , that should endear itself to the mtv generation . after awhile , all the performers looked alike to me , but i wouldn\\'t be doing my duty as a movie reviewer , if i should fail to point out that there is some kind of melodramatic love story going down among the four stars of the film , rico ( casper van dien ) , the school football hero , loves carmen ( denise richards ) , the school beauty and math brain , who is set on becoming a pilot , which is the reason rico joins the military . i don\\'t think you get much bang for your money out of this film , unless you are really into special effects or found this sophomoric satire funny or you are a reactionary , then i think you will find many things to like about this empty hearted attempt to put ww11 into an outer space conflagration film .',\n",
       "       'this is asking a lot to believe , and though it is possible , it would have been more possible to believe if quentin possessed some charm or something about him that would give us a clue that he was such a good catch , because he sure couldn\\'t act , and since he is the focal point of all the attention , able to have his way with either men or women , we should also have felt this electricity generated on screen , instead of being forced fed by the director into believing something was happening when we couldn\\'t see it . just what was supposed to be so compelling about this relationship , that would make it interesting ? i\\'m afraid i don\\'t have the answer , since i can\\'t find a thing about this relationship or this movie that kept me tuned into it , as i tended to drift out of the story somewhere in the middle , and just watched for the street scenes of paris in the background , which i found to be more pleasurable viewing than the movie itself , even more erotic than the unerotic love scenes between the lovers , and this is being said by a big fan of isabelle huppert , who is usually quite engaging in the various roles she has played during her long career , but here it is embarrassing for me to watch her vacuous performance . the only problem with this , is that we didn\\'t see how good the sex was , we had to take the word of the actors that it was so good , as dialogue came out of their mouths that is totally forgetable or regretable or whatever , but their love was not passionate or credible . there is one line from the film that summed up how i really felt about what i was seeing , when at a fashion party for dominque\\'s wealthy parisian fashion clients , quentin tells her , \" seeing all these rich people makes me want to puke . \" quentin must be psychic or something , because he was just regurgitating what i was thinking about the characters in this film .',\n",
       "       ...,\n",
       "       \"claire denis ( i can't sleep/nenette and boni/no fear , no die ) has created a cinematic work of great poetry and reverie : a masterpiece . there are many films that influenced denis , but the works of alain renais , especially his muriel , probably influenced her the most . it's a film so visually stunning and so magnificently palpable in its cinematography and in its lively camera movements and fascinating narrative speculations , and most of all , in its lyrical sensuality , that it runs poetically adrift with its listless hypnotic pace , its sparse dialogue forcing the viewer to see what is not being said , and by its strange brooding mood it sets , as it tells in a matter of fact tone a story of hate , alienation and envy through the eyes of the narrow-minded french foreign legionnaire who found freedom in his remorse . its background shots are just as important as its story line and its theme , as it helps explore the everyday boredom the men face , of the trite routines the macho men are under , and the underlying violence it evokes in them . the minimally told story is made all the more powerful by many vivid shots , such as the one of the emerald water contrasted with the barren desert , or of the distant mountains which seem to have a language of their own that speaks to us of things we cannot know , or of the unobtrusive native women in their colorful dresses that we see in the marketplace or at the disco , who strike a chord in us with their musical gestures and mocking tones . the local women are just as much a part of the story as anything else in the film is , even though they are not directly part of the plot . there are also the close-ups of the interracial legionnaires living as brothers who have to reinforce this by ritualistically hugging and separating from each other in what seems to be weirdly homoerotic embraces , but can also be viewed as a parody of such romantic notions . beau travail literally means beautiful work , and this film delivers all that and more . it seems like it has been ages since i have been so enthused about a film as i am by this one . i have a lot of time ahead of me . ' galoup is not afraid to openly state how he was driven by the twisted state of his mind to behave in such a maddening way against such a selfless and blank individual , someone he found hard to believe really exists . time seems irrelevant for the soldiers , memories seem to come and go , as they do their military drills looking at times like teutonic mythical gods while half-naked ( these scenes provoke , mock and remind us of the leni riefenstahl kitsch art and homoerotic heroes she gave us in both triumph of the will and olympiad--though denis's characterizations seemed all the more potent , purposeful and vital ) . to iron a perfect crease in their uniform is part of their reason for being in the legion , because it makes them look special . beau travail is the memories of such idol pleasures and such a need to fit in somewhere , even if it is into something that appears as useless as the legion , which doesn't seem to have any purpose anymore without the days of french colonization and the algerian war . the legion is their love fantasy , it is something that can't be understood by anyone but true lovers . this is her breakthrough genius film , a film that stands heads and shoulders over the talented director's other films . what adds to the film , is the robust musical score of benjamin britten's billy budd oratorio and the choreography staged by one of the actors who played a legionnaire , bernardo montet . all the military exercises were like watching a ballet , as the entire film had the fresh look of something so beautiful , that it has to be seen .\",\n",
       "       'the young kid doesn\\'t know what to say . yang-yang is not only the namesake of the director , but speaks for him in this film . so how can i know what you see ? \" at one point of the film the director through the character who reacts the most emotional , the very thin \" fatty , \" tells his movie date that movies are not a waste of time , but enrich one\\'s life . they even increase your life three times because the movies tell us about things we could never possibly know . he gives one example of murder , but that didn\\'t go over too well with ting-ting . this one is a masterpiece , despite it being as inexplicable as a great work of music sometimes is . it lays out the grief facing a problematic family and we see it happening , but we never quite understand why ; and , we will have to accept as an answer that is because individuals are very complex and if they can\\'t tell us what is on their mind , we can only guess what they are thinking . and , isn\\'t that the way you find it with many people ? maybe finding happiness isn\\'t so simple a matter . maybe we are destined to follow a certain course and even if given a second chance would still make the same mistakes . the director knows that we are all unique and have our own way of seeing things , and he respects that . but whatever , there was a certain raw , undefinable power that this great filmmaker has that makes this story fulfilling ; even if , we are never quite sure if we are fulfilled by what we saw . but one thing is certain , you can\\'t put this iconoclastic filmmaker in a box and label him . i wouldn\\'t miss this one . as entertaining a film as crouching tiger . . . was , it didn\\'t have this film\\'s depth and poignancy .',\n",
       "       \"the film's theme is about how women are made to suffer in iran because of its harsh islamic laws against them , which makes all of their lives placed in the same never ending circle of repression . which is why the film has no main protagonist ; the cast , except for fereshteh sadr orafai and fatemeh naghavi , are all nonprofessionals . jafar panahi ( white balloon/the mirror ) , a disciple of abbas kiarostami , has created a devastatingly restrained powerhouse of a political film . a winner of the golden lion at the venice film festival , even though it has been banned in iran except for a one-time screening to a small student audience . a woman's life is shown to be not as worthy as a man's in modern iran , as the story of one woman is carried on as the story of another woman's . the enemy obviously isn't the iranian people , but an intolerant government that cannot bend and forces its stupid rules down a subjected peoples' throats . this film conveys these dark feelings through a story without much of a plot or dialogue , yet brilliantly establishes the yearnings for freedom that these women have . it's much like those warner brother films of the 1930s with jimmy cagney thumbing his nose at the high brows . panafi has taken us into the psyche of the oppressive regime and without saying what's right or wrong , allows us instead to see for ourselves the everyday street life of modern iran . it's a country far from freedom , yet its filmmakers can still make a film that is unpredictable and forthright . this is something that's rarely accomplished in uncensored hollywood whose commercial ventures are mostly formulaic crowd pleaser films . these are amazing restrictions placed on them and ones that panafi allows us to see in an exciting and unforgettable way . it's a moody , realistic tale about iran that the news media can't seem to cover with a reasonable verisimilitude as well as this very daring effort does . it succeeds in showing us as much as one can in today's iran about its long laundry list of injustices . this is one film that cannot easily be forgotten , even as we lose sight of the different women we have seen . all the performances were natural and easily fit into the story . the facial expressions of both orfani and mamizade caught my attention : orfani's had that caring , intense look of the italian actress anna magnani ; while mamizade's expression changed from curiosity to vulnerability .\"], dtype=object)"
      ]
     },
     "execution_count": 6,
     "metadata": {},
     "output_type": "execute_result"
    }
   ],
   "source": [
    "dennis.subj_extraction.values"
   ]
  },
  {
   "cell_type": "code",
   "execution_count": null,
   "metadata": {},
   "outputs": [],
   "source": []
  }
 ],
 "metadata": {
  "kernelspec": {
   "display_name": "Python 3",
   "language": "python",
   "name": "python3"
  },
  "language_info": {
   "codemirror_mode": {
    "name": "ipython",
    "version": 3
   },
   "file_extension": ".py",
   "mimetype": "text/x-python",
   "name": "python",
   "nbconvert_exporter": "python",
   "pygments_lexer": "ipython3",
   "version": "3.6.3"
  }
 },
 "nbformat": 4,
 "nbformat_minor": 2
}
